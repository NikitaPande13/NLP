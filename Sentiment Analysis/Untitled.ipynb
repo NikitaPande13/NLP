{
 "cells": [
  {
   "cell_type": "markdown",
   "id": "f941119e",
   "metadata": {},
   "source": [
    "### WEB SCRAPING USING PYTHON"
   ]
  },
  {
   "cell_type": "markdown",
   "id": "01ee7d4f",
   "metadata": {},
   "source": [
    "#### INSTALLING PACKAGES"
   ]
  },
  {
   "cell_type": "code",
   "execution_count": null,
   "id": "cc88ad00",
   "metadata": {},
   "outputs": [],
   "source": [
    "!pip install beautifulsoup4"
   ]
  },
  {
   "cell_type": "code",
   "execution_count": null,
   "id": "f81eff6c",
   "metadata": {},
   "outputs": [],
   "source": [
    "!pip install requests"
   ]
  },
  {
   "cell_type": "markdown",
   "id": "7f0c38ec",
   "metadata": {},
   "source": [
    "#### import packeages"
   ]
  },
  {
   "cell_type": "code",
   "execution_count": null,
   "id": "019330ec",
   "metadata": {},
   "outputs": [],
   "source": [
    "from bs4 import BeautifulSoup as soup #use to parse html and xml document in our python IDE\n",
    "import requests #useful for download html content in our python page\n",
    "import pandas as pd\n",
    "import newspaper\n",
    "import csv"
   ]
  },
  {
   "cell_type": "markdown",
   "id": "7b35381d",
   "metadata": {},
   "source": [
    "#### Get website address to scrape "
   ]
  },
  {
   "cell_type": "code",
   "execution_count": null,
   "id": "be29bc63",
   "metadata": {},
   "outputs": [],
   "source": [
    "url=\"https://timesofindia.indiatimes.com/\"\n",
    "url"
   ]
  },
  {
   "cell_type": "markdown",
   "id": "aa14123c",
   "metadata": {},
   "source": [
    "#### sends a GET request to the specified url"
   ]
  },
  {
   "cell_type": "code",
   "execution_count": null,
   "id": "50fc82da",
   "metadata": {},
   "outputs": [],
   "source": [
    "url_re=requests.get(url)"
   ]
  },
  {
   "cell_type": "markdown",
   "id": "26200a67",
   "metadata": {},
   "source": [
    "#### by using beautifulsoup(package) we can get all content into \"news\" variable"
   ]
  },
  {
   "cell_type": "code",
   "execution_count": null,
   "id": "dcdc3bf2",
   "metadata": {},
   "outputs": [],
   "source": [
    "news=soup(url_re.content)"
   ]
  },
  {
   "cell_type": "markdown",
   "id": "ac940573",
   "metadata": {},
   "source": [
    "#### using for loop we fetch only important tags in our website"
   ]
  },
  {
   "cell_type": "code",
   "execution_count": null,
   "id": "0cb66902",
   "metadata": {},
   "outputs": [],
   "source": [
    "for links in news.find_all(\"h2\"):\n",
    "    print(\"Tags: {}\".format(links.text))"
   ]
  },
  {
   "cell_type": "markdown",
   "id": "94da4565",
   "metadata": {},
   "source": [
    "#### using for loop we fetch or get all headlines of the page"
   ]
  },
  {
   "cell_type": "code",
   "execution_count": null,
   "id": "5aa064fd",
   "metadata": {},
   "outputs": [],
   "source": [
    "for news in news.find_all('a',class_=\"_3SqZy\"):\n",
    "    print(\"Headline: {}\".format(news.text))"
   ]
  },
  {
   "cell_type": "code",
   "execution_count": null,
   "id": "d5276649",
   "metadata": {},
   "outputs": [],
   "source": [
    "for news in news.find_all('a',class_=\"_3SqZy\"):\n",
    "    print(\"Headline: {}\".format(news.a['href']))"
   ]
  },
  {
   "cell_type": "code",
   "execution_count": null,
   "id": "b11d4e00",
   "metadata": {},
   "outputs": [],
   "source": [
    "links = []\n",
    "for news in news.findAll('a',{'class':'_3SqZy'}):\n",
    "    links.append(news.href)"
   ]
  },
  {
   "cell_type": "markdown",
   "id": "64be2e12",
   "metadata": {},
   "source": [
    "### Method 2"
   ]
  },
  {
   "cell_type": "code",
   "execution_count": null,
   "id": "8e79a088",
   "metadata": {},
   "outputs": [],
   "source": [
    "for article in times.articles:\n",
    "    print(article.url)"
   ]
  },
  {
   "cell_type": "code",
   "execution_count": null,
   "id": "940071df",
   "metadata": {},
   "outputs": [],
   "source": [
    "bbc=newspaper.build(\"https://www.bbc.com/news\")"
   ]
  },
  {
   "cell_type": "code",
   "execution_count": null,
   "id": "56633f62",
   "metadata": {},
   "outputs": [],
   "source": [
    "cnn=newspaper.build(\"https://edition.cnn.com/\")"
   ]
  },
  {
   "cell_type": "code",
   "execution_count": null,
   "id": "797083b5",
   "metadata": {},
   "outputs": [],
   "source": [
    "for article in bbc.articles:\n",
    "    print(article.url)"
   ]
  },
  {
   "cell_type": "code",
   "execution_count": null,
   "id": "8bc81d85",
   "metadata": {},
   "outputs": [],
   "source": [
    "for category in bbc.category_urls():\n",
    "    print(category)"
   ]
  },
  {
   "cell_type": "code",
   "execution_count": null,
   "id": "0e7d0743",
   "metadata": {},
   "outputs": [],
   "source": [
    "for article in cnn.articles:\n",
    "    print(article.url)"
   ]
  },
  {
   "cell_type": "code",
   "execution_count": 1,
   "id": "07884ad1",
   "metadata": {},
   "outputs": [
    {
     "name": "stdout",
     "output_type": "stream",
     "text": [
      "HTTP GET: https://edition.cnn.com/%22) | Status code: 404\n"
     ]
    },
    {
     "ename": "TypeError",
     "evalue": "'NoneType' object is not subscriptable",
     "output_type": "error",
     "traceback": [
      "\u001b[1;31m---------------------------------------------------------------------------\u001b[0m",
      "\u001b[1;31mTypeError\u001b[0m                                 Traceback (most recent call last)",
      "\u001b[1;32m~\\AppData\\Local\\Temp/ipykernel_9380/3125405352.py\u001b[0m in \u001b[0;36m<module>\u001b[1;34m\u001b[0m\n\u001b[0;32m     66\u001b[0m \u001b[1;33m\u001b[0m\u001b[0m\n\u001b[0;32m     67\u001b[0m \u001b[1;31m# Parse initial response\u001b[0m\u001b[1;33m\u001b[0m\u001b[1;33m\u001b[0m\u001b[0m\n\u001b[1;32m---> 68\u001b[1;33m \u001b[0mparse\u001b[0m\u001b[1;33m(\u001b[0m\u001b[0mhtml\u001b[0m\u001b[1;33m)\u001b[0m\u001b[1;33m\u001b[0m\u001b[1;33m\u001b[0m\u001b[0m\n\u001b[0m\u001b[0;32m     69\u001b[0m \u001b[1;33m\u001b[0m\u001b[0m\n\u001b[0;32m     70\u001b[0m \u001b[1;31m# Loop over the number of pages to scrape\u001b[0m\u001b[1;33m\u001b[0m\u001b[1;33m\u001b[0m\u001b[0m\n",
      "\u001b[1;32m~\\AppData\\Local\\Temp/ipykernel_9380/3125405352.py\u001b[0m in \u001b[0;36mparse\u001b[1;34m(response)\u001b[0m\n\u001b[0;32m     21\u001b[0m \u001b[1;33m\u001b[0m\u001b[0m\n\u001b[0;32m     22\u001b[0m     \u001b[1;31m# Extract next page URL\u001b[0m\u001b[1;33m\u001b[0m\u001b[1;33m\u001b[0m\u001b[0m\n\u001b[1;32m---> 23\u001b[1;33m     \u001b[0mnext_page\u001b[0m \u001b[1;33m=\u001b[0m \u001b[0mcontent\u001b[0m\u001b[1;33m.\u001b[0m\u001b[0mfind\u001b[0m\u001b[1;33m(\u001b[0m\u001b[1;34m'a'\u001b[0m\u001b[1;33m,\u001b[0m \u001b[1;33m{\u001b[0m\u001b[1;34m'class'\u001b[0m\u001b[1;33m:\u001b[0m \u001b[1;34m'blog-pager-older-link-mobile'\u001b[0m\u001b[1;33m}\u001b[0m\u001b[1;33m)\u001b[0m\u001b[1;33m[\u001b[0m\u001b[1;34m'href'\u001b[0m\u001b[1;33m]\u001b[0m\u001b[1;33m\u001b[0m\u001b[1;33m\u001b[0m\u001b[0m\n\u001b[0m\u001b[0;32m     24\u001b[0m \u001b[1;33m\u001b[0m\u001b[0m\n\u001b[0;32m     25\u001b[0m     \u001b[1;31m# Loop over the indexes of scraped items\u001b[0m\u001b[1;33m\u001b[0m\u001b[1;33m\u001b[0m\u001b[0m\n",
      "\u001b[1;31mTypeError\u001b[0m: 'NoneType' object is not subscriptable"
     ]
    }
   ],
   "source": [
    "import requests\n",
    "from bs4 import BeautifulSoup\n",
    "import csv\n",
    "import time\n",
    "\n",
    "\n",
    "# Parse the HTTP response\n",
    "def parse(response):\n",
    "    print('HTTP GET: %s | Status code: %s' % (response.url, response.status_code))\n",
    "    \n",
    "    # Parse HTML content\n",
    "    content = BeautifulSoup(response.text, 'lxml')\n",
    "\n",
    "    # Extract data fields\n",
    "    titles = [title.text for title in content.findAll('h2', {'class': 'home-title'})]\n",
    "    links = [link['href'] for link in content.findAll('a', {'class': 'story-link'})]\n",
    "    labels = content.findAll('div', {'class': 'item-label'})\n",
    "    dates = [[tag for tag in date][1] for date in labels]\n",
    "    authors = [[tag for tag in author][2].text.strip('\\n')[1:] for author in labels]\n",
    "    descriptions = [desc.text.strip() for desc in content.findAll('div', {'class': 'home-desc'})]\n",
    "    \n",
    "    # Extract next page URL\n",
    "    next_page = content.find('a', {'class': 'blog-pager-older-link-mobile'})['href']\n",
    "\n",
    "    # Loop over the indexes of scraped items\n",
    "    for index in range(0, len(titles) - 1):\n",
    "        # Append scraped item to results\n",
    "        results.append({\n",
    "            'title': titles[index],\n",
    "            'link': links[index],\n",
    "            'description': descriptions[index],\n",
    "            'date': dates[index],\n",
    "            'author': authors[index],\n",
    "        })\n",
    "    \n",
    "    # Append next page URL to URL's list\n",
    "    urls.append(next_page)\n",
    "\n",
    "# Export scraped results to CSV file\n",
    "def export_csv(filename):\n",
    "    # Create file stream\n",
    "    with open(filename, 'w') as csv_file:\n",
    "        # Create CSV dictionary writer object\n",
    "        writer = csv.DictWriter(csv_file, fieldnames=results[0].keys())\n",
    "        \n",
    "        # Write column names to CSV file\n",
    "        writer.writeheader()\n",
    "        \n",
    "        # Loop over scraped results\n",
    "        for row in results:\n",
    "            # Write scraped results to CSV file\n",
    "            writer.writerow(row)\n",
    "            \n",
    "\n",
    "# Limit page number to scrape\n",
    "page_number = 5\n",
    "\n",
    "# List of pages to scrape\n",
    "urls = []\n",
    "\n",
    "# List of scraped results\n",
    "results = []\n",
    "\n",
    "# Make initial HTTP GET request to obtain HTML response\n",
    "html = requests.get('https://edition.cnn.com/\")')\n",
    "\n",
    "# Parse initial response\n",
    "parse(html)\n",
    "\n",
    "# Loop over the number of pages to scrape\n",
    "for page in range(0, page_number):\n",
    "    # Get next pages\n",
    "    next_page = requests.get(urls[-1])\n",
    "    \n",
    "    # Parse next page\n",
    "    parse(next_page)\n",
    "    \n",
    "    # Sleep for 2 seconds\n",
    "    time.sleep(2)\n",
    "\n",
    "# Export scraped results to CSV file\n",
    "export_csv('news.csv')"
   ]
  }
 ],
 "metadata": {
  "kernelspec": {
   "display_name": "Python 3 (ipykernel)",
   "language": "python",
   "name": "python3"
  },
  "language_info": {
   "codemirror_mode": {
    "name": "ipython",
    "version": 3
   },
   "file_extension": ".py",
   "mimetype": "text/x-python",
   "name": "python",
   "nbconvert_exporter": "python",
   "pygments_lexer": "ipython3",
   "version": "3.9.7"
  }
 },
 "nbformat": 4,
 "nbformat_minor": 5
}
