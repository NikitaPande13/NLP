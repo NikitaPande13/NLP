{
 "cells": [
  {
   "cell_type": "markdown",
   "id": "9a89cc7a",
   "metadata": {},
   "source": [
    "### Import Libraries"
   ]
  },
  {
   "cell_type": "code",
   "execution_count": 13,
   "id": "6fea9fff",
   "metadata": {},
   "outputs": [],
   "source": [
    "import warnings\n",
    "warnings.filterwarnings(\"ignore\")\n",
    "\n",
    "import numpy as np\n",
    "import pandas as pd\n",
    "from os import path\n",
    "from PIL import Image\n",
    "from wordcloud import WordCloud, STOPWORDS, ImageColorGenerator\n",
    "\n",
    "import matplotlib.pyplot as plt\n",
    "%matplotlib inline"
   ]
  },
  {
   "cell_type": "markdown",
   "id": "134c0794",
   "metadata": {},
   "source": [
    "### Import Dataset"
   ]
  },
  {
   "cell_type": "code",
   "execution_count": 14,
   "id": "0971131c",
   "metadata": {},
   "outputs": [
    {
     "data": {
      "text/html": [
       "<div>\n",
       "<style scoped>\n",
       "    .dataframe tbody tr th:only-of-type {\n",
       "        vertical-align: middle;\n",
       "    }\n",
       "\n",
       "    .dataframe tbody tr th {\n",
       "        vertical-align: top;\n",
       "    }\n",
       "\n",
       "    .dataframe thead th {\n",
       "        text-align: right;\n",
       "    }\n",
       "</style>\n",
       "<table border=\"1\" class=\"dataframe\">\n",
       "  <thead>\n",
       "    <tr style=\"text-align: right;\">\n",
       "      <th></th>\n",
       "      <th>user</th>\n",
       "      <th>location</th>\n",
       "      <th>source</th>\n",
       "      <th>place</th>\n",
       "      <th>created_at</th>\n",
       "      <th>geo_enabled</th>\n",
       "      <th>friends_count</th>\n",
       "      <th>text</th>\n",
       "      <th>retweet_count</th>\n",
       "      <th>retweeted_status</th>\n",
       "    </tr>\n",
       "  </thead>\n",
       "  <tbody>\n",
       "    <tr>\n",
       "      <th>0</th>\n",
       "      <td>galabhupesh</td>\n",
       "      <td>NaN</td>\n",
       "      <td>Twitter for Android</td>\n",
       "      <td>NaN</td>\n",
       "      <td>2021-05-09 15:40:48</td>\n",
       "      <td>True</td>\n",
       "      <td>524</td>\n",
       "      <td>@ANI When Court asked for Oxygen Audits and wh...</td>\n",
       "      <td>0</td>\n",
       "      <td>False</td>\n",
       "    </tr>\n",
       "    <tr>\n",
       "      <th>1</th>\n",
       "      <td>its_sreedhar</td>\n",
       "      <td>NaN</td>\n",
       "      <td>Twitter for Android</td>\n",
       "      <td>NaN</td>\n",
       "      <td>2021-05-09 15:40:48</td>\n",
       "      <td>True</td>\n",
       "      <td>217</td>\n",
       "      <td>AP gov sanctioned 310cr for 49 oxygen plants f...</td>\n",
       "      <td>0</td>\n",
       "      <td>False</td>\n",
       "    </tr>\n",
       "    <tr>\n",
       "      <th>2</th>\n",
       "      <td>khansahilrehab</td>\n",
       "      <td>Patna, India</td>\n",
       "      <td>Twitter for iPhone</td>\n",
       "      <td>NaN</td>\n",
       "      <td>2021-05-09 15:40:48</td>\n",
       "      <td>False</td>\n",
       "      <td>337</td>\n",
       "      <td>@thevirdas Only Oxygen and steroids seem to wo...</td>\n",
       "      <td>0</td>\n",
       "      <td>False</td>\n",
       "    </tr>\n",
       "    <tr>\n",
       "      <th>3</th>\n",
       "      <td>ArunGarimella</td>\n",
       "      <td>Vijayawada, India</td>\n",
       "      <td>Twitter for Android</td>\n",
       "      <td>NaN</td>\n",
       "      <td>2021-05-09 15:40:46</td>\n",
       "      <td>False</td>\n",
       "      <td>93</td>\n",
       "      <td>Sir, Need Oxygen bed urgently in Vijayawada , ...</td>\n",
       "      <td>0</td>\n",
       "      <td>False</td>\n",
       "    </tr>\n",
       "    <tr>\n",
       "      <th>4</th>\n",
       "      <td>iprachi_singh</td>\n",
       "      <td>Rajasthan, India</td>\n",
       "      <td>Twitter for Android</td>\n",
       "      <td>NaN</td>\n",
       "      <td>2021-05-09 15:40:45</td>\n",
       "      <td>False</td>\n",
       "      <td>926</td>\n",
       "      <td>@dulcetchani @TajinderBagga @yuvahallabol I th...</td>\n",
       "      <td>0</td>\n",
       "      <td>False</td>\n",
       "    </tr>\n",
       "  </tbody>\n",
       "</table>\n",
       "</div>"
      ],
      "text/plain": [
       "             user           location               source place  \\\n",
       "0     galabhupesh                NaN  Twitter for Android   NaN   \n",
       "1    its_sreedhar                NaN  Twitter for Android   NaN   \n",
       "2  khansahilrehab       Patna, India   Twitter for iPhone   NaN   \n",
       "3   ArunGarimella  Vijayawada, India  Twitter for Android   NaN   \n",
       "4   iprachi_singh   Rajasthan, India  Twitter for Android   NaN   \n",
       "\n",
       "            created_at  geo_enabled  friends_count  \\\n",
       "0  2021-05-09 15:40:48         True            524   \n",
       "1  2021-05-09 15:40:48         True            217   \n",
       "2  2021-05-09 15:40:48        False            337   \n",
       "3  2021-05-09 15:40:46        False             93   \n",
       "4  2021-05-09 15:40:45        False            926   \n",
       "\n",
       "                                                text  retweet_count  \\\n",
       "0  @ANI When Court asked for Oxygen Audits and wh...              0   \n",
       "1  AP gov sanctioned 310cr for 49 oxygen plants f...              0   \n",
       "2  @thevirdas Only Oxygen and steroids seem to wo...              0   \n",
       "3  Sir, Need Oxygen bed urgently in Vijayawada , ...              0   \n",
       "4  @dulcetchani @TajinderBagga @yuvahallabol I th...              0   \n",
       "\n",
       "   retweeted_status  \n",
       "0             False  \n",
       "1             False  \n",
       "2             False  \n",
       "3             False  \n",
       "4             False  "
      ]
     },
     "execution_count": 14,
     "metadata": {},
     "output_type": "execute_result"
    }
   ],
   "source": [
    "oxygen_crises=pd.read_csv(r\"C:\\Users\\HP\\Desktop\\python\\Deep Learning\\sentiment analysis\\oxygen_crises.csv\")\n",
    "oxygen_crises.head()"
   ]
  },
  {
   "cell_type": "code",
   "execution_count": 15,
   "id": "53dd94ee",
   "metadata": {},
   "outputs": [
    {
     "data": {
      "text/html": [
       "<div>\n",
       "<style scoped>\n",
       "    .dataframe tbody tr th:only-of-type {\n",
       "        vertical-align: middle;\n",
       "    }\n",
       "\n",
       "    .dataframe tbody tr th {\n",
       "        vertical-align: top;\n",
       "    }\n",
       "\n",
       "    .dataframe thead th {\n",
       "        text-align: right;\n",
       "    }\n",
       "</style>\n",
       "<table border=\"1\" class=\"dataframe\">\n",
       "  <thead>\n",
       "    <tr style=\"text-align: right;\">\n",
       "      <th></th>\n",
       "      <th>text</th>\n",
       "    </tr>\n",
       "  </thead>\n",
       "  <tbody>\n",
       "    <tr>\n",
       "      <th>0</th>\n",
       "      <td>@ANI When Court asked for Oxygen Audits and wh...</td>\n",
       "    </tr>\n",
       "    <tr>\n",
       "      <th>1</th>\n",
       "      <td>AP gov sanctioned 310cr for 49 oxygen plants f...</td>\n",
       "    </tr>\n",
       "    <tr>\n",
       "      <th>2</th>\n",
       "      <td>@thevirdas Only Oxygen and steroids seem to wo...</td>\n",
       "    </tr>\n",
       "    <tr>\n",
       "      <th>3</th>\n",
       "      <td>Sir, Need Oxygen bed urgently in Vijayawada , ...</td>\n",
       "    </tr>\n",
       "    <tr>\n",
       "      <th>4</th>\n",
       "      <td>@dulcetchani @TajinderBagga @yuvahallabol I th...</td>\n",
       "    </tr>\n",
       "    <tr>\n",
       "      <th>...</th>\n",
       "      <td>...</td>\n",
       "    </tr>\n",
       "    <tr>\n",
       "      <th>995</th>\n",
       "      <td>150 oxygen concentrator for a population above...</td>\n",
       "    </tr>\n",
       "    <tr>\n",
       "      <th>996</th>\n",
       "      <td>Need A oxygen cylinder urgently\\nKindly help\\n...</td>\n",
       "    </tr>\n",
       "    <tr>\n",
       "      <th>997</th>\n",
       "      <td>Hospitalbeds #Ahmedabad\\n\\nCivil Hospital Ahme...</td>\n",
       "    </tr>\n",
       "    <tr>\n",
       "      <th>998</th>\n",
       "      <td>@kimggugie No, im here but i need oxygen rn</td>\n",
       "    </tr>\n",
       "    <tr>\n",
       "      <th>999</th>\n",
       "      <td>Please help me my father want oxygen cylinder ...</td>\n",
       "    </tr>\n",
       "  </tbody>\n",
       "</table>\n",
       "<p>1000 rows × 1 columns</p>\n",
       "</div>"
      ],
      "text/plain": [
       "                                                  text\n",
       "0    @ANI When Court asked for Oxygen Audits and wh...\n",
       "1    AP gov sanctioned 310cr for 49 oxygen plants f...\n",
       "2    @thevirdas Only Oxygen and steroids seem to wo...\n",
       "3    Sir, Need Oxygen bed urgently in Vijayawada , ...\n",
       "4    @dulcetchani @TajinderBagga @yuvahallabol I th...\n",
       "..                                                 ...\n",
       "995  150 oxygen concentrator for a population above...\n",
       "996  Need A oxygen cylinder urgently\\nKindly help\\n...\n",
       "997  Hospitalbeds #Ahmedabad\\n\\nCivil Hospital Ahme...\n",
       "998        @kimggugie No, im here but i need oxygen rn\n",
       "999  Please help me my father want oxygen cylinder ...\n",
       "\n",
       "[1000 rows x 1 columns]"
      ]
     },
     "execution_count": 15,
     "metadata": {},
     "output_type": "execute_result"
    }
   ],
   "source": [
    "oxygen_crises=pd.DataFrame(oxygen_crises.text)\n",
    "oxygen_crises"
   ]
  },
  {
   "cell_type": "code",
   "execution_count": 16,
   "id": "ded0141a",
   "metadata": {},
   "outputs": [
    {
     "data": {
      "text/plain": [
       "'#SOSCHENNAI Need Immediate hospitalisation with Oxygen for a mail patient in Chennai. SPO2 = 84 &amp; dropping. Covid+… https://t.co/opvi03cmMX'"
      ]
     },
     "execution_count": 16,
     "metadata": {},
     "output_type": "execute_result"
    }
   ],
   "source": [
    "oxygen_crises.iloc[13,0]"
   ]
  },
  {
   "cell_type": "markdown",
   "id": "dc091473",
   "metadata": {},
   "source": [
    "### step1: remove Lower case"
   ]
  },
  {
   "cell_type": "code",
   "execution_count": 17,
   "id": "c7fa19ed",
   "metadata": {},
   "outputs": [],
   "source": [
    "oxygen_crises['text']=oxygen_crises['text'].str.lower()"
   ]
  },
  {
   "cell_type": "code",
   "execution_count": 18,
   "id": "2e1bfb98",
   "metadata": {},
   "outputs": [
    {
     "data": {
      "text/plain": [
       "'#soschennai need immediate hospitalisation with oxygen for a mail patient in chennai. spo2 = 84 &amp; dropping. covid+… https://t.co/opvi03cmmx'"
      ]
     },
     "execution_count": 18,
     "metadata": {},
     "output_type": "execute_result"
    }
   ],
   "source": [
    "oxygen_crises.iloc[13,0]"
   ]
  },
  {
   "cell_type": "markdown",
   "id": "3eb8cc80",
   "metadata": {},
   "source": [
    "### Step 2: remove Punctuation"
   ]
  },
  {
   "cell_type": "code",
   "execution_count": 19,
   "id": "acccf32a",
   "metadata": {},
   "outputs": [
    {
     "data": {
      "text/plain": [
       "'#soschennai need immediate hospitalisation with oxygen for a mail patient in chennai. spo2 = 84 &amp; dropping. covid+… https://t.co/opvi03cmmx'"
      ]
     },
     "execution_count": 19,
     "metadata": {},
     "output_type": "execute_result"
    }
   ],
   "source": [
    "oxygen_crises.iloc[13,0]"
   ]
  },
  {
   "cell_type": "code",
   "execution_count": 20,
   "id": "981d5487",
   "metadata": {},
   "outputs": [],
   "source": [
    "oxygen_crises['text'] = oxygen_crises['text'].str.replace(r'[^\\w\\s]+', '')"
   ]
  },
  {
   "cell_type": "code",
   "execution_count": 21,
   "id": "8138581b",
   "metadata": {},
   "outputs": [
    {
     "data": {
      "text/plain": [
       "'soschennai need immediate hospitalisation with oxygen for a mail patient in chennai spo2  84 amp dropping covid httpstcoopvi03cmmx'"
      ]
     },
     "execution_count": 21,
     "metadata": {},
     "output_type": "execute_result"
    }
   ],
   "source": [
    "oxygen_crises.iloc[13,0]"
   ]
  },
  {
   "cell_type": "markdown",
   "id": "ee4c64fe",
   "metadata": {},
   "source": [
    "### Remove url\n",
    "* \\S == Returns a match where the string DOES NOT contain a white space character ( http / www.)\n",
    "* (+) == one or more occurance"
   ]
  },
  {
   "cell_type": "code",
   "execution_count": 26,
   "id": "dc2393e0",
   "metadata": {},
   "outputs": [],
   "source": [
    "oxygen_crises.text = oxygen_crises.text.str.replace(r'http\\S+|www.\\S+','',case=False)"
   ]
  },
  {
   "cell_type": "code",
   "execution_count": 27,
   "id": "a5c555a0",
   "metadata": {},
   "outputs": [
    {
     "data": {
      "text/plain": [
       "'soschennai need immediate hospitalisation with oxygen for a mail patient in chennai spo2  84 amp dropping covid '"
      ]
     },
     "execution_count": 27,
     "metadata": {},
     "output_type": "execute_result"
    }
   ],
   "source": [
    "oxygen_crises.iloc[13,0]"
   ]
  },
  {
   "cell_type": "markdown",
   "id": "a12f563a",
   "metadata": {},
   "source": [
    "### Remove Number"
   ]
  },
  {
   "cell_type": "code",
   "execution_count": 16,
   "id": "3d6a46ae",
   "metadata": {},
   "outputs": [
    {
     "data": {
      "text/plain": [
       "'soschennai need immediate hospitalisation with oxygen for a mail patient in chennai spo2  84 amp dropping covid… '"
      ]
     },
     "execution_count": 16,
     "metadata": {},
     "output_type": "execute_result"
    }
   ],
   "source": [
    "oxygen_crises.iloc[13,0]"
   ]
  },
  {
   "cell_type": "code",
   "execution_count": 18,
   "id": "a289a187",
   "metadata": {},
   "outputs": [],
   "source": [
    "oxygen_crises['text'] = oxygen_crises['text'].str.replace('\\d+','')"
   ]
  },
  {
   "cell_type": "code",
   "execution_count": 19,
   "id": "d8033a98",
   "metadata": {},
   "outputs": [
    {
     "data": {
      "text/plain": [
       "'soschennai need immediate hospitalisation with oxygen for a mail patient in chennai spo   amp dropping covid… '"
      ]
     },
     "execution_count": 19,
     "metadata": {},
     "output_type": "execute_result"
    }
   ],
   "source": [
    "oxygen_crises.iloc[13,0]"
   ]
  },
  {
   "cell_type": "markdown",
   "id": "1fd6a46e",
   "metadata": {},
   "source": [
    "### Removing Stop Words"
   ]
  },
  {
   "cell_type": "code",
   "execution_count": 20,
   "id": "25cd9725",
   "metadata": {},
   "outputs": [
    {
     "name": "stderr",
     "output_type": "stream",
     "text": [
      "[nltk_data] Downloading package stopwords to\n",
      "[nltk_data]     C:\\Users\\HP\\AppData\\Roaming\\nltk_data...\n",
      "[nltk_data]   Package stopwords is already up-to-date!\n"
     ]
    },
    {
     "data": {
      "text/plain": [
       "['i',\n",
       " 'me',\n",
       " 'my',\n",
       " 'myself',\n",
       " 'we',\n",
       " 'our',\n",
       " 'ours',\n",
       " 'ourselves',\n",
       " 'you',\n",
       " \"you're\",\n",
       " \"you've\",\n",
       " \"you'll\",\n",
       " \"you'd\",\n",
       " 'your',\n",
       " 'yours',\n",
       " 'yourself',\n",
       " 'yourselves',\n",
       " 'he',\n",
       " 'him',\n",
       " 'his',\n",
       " 'himself',\n",
       " 'she',\n",
       " \"she's\",\n",
       " 'her',\n",
       " 'hers',\n",
       " 'herself',\n",
       " 'it',\n",
       " \"it's\",\n",
       " 'its',\n",
       " 'itself',\n",
       " 'they',\n",
       " 'them',\n",
       " 'their',\n",
       " 'theirs',\n",
       " 'themselves',\n",
       " 'what',\n",
       " 'which',\n",
       " 'who',\n",
       " 'whom',\n",
       " 'this',\n",
       " 'that',\n",
       " \"that'll\",\n",
       " 'these',\n",
       " 'those',\n",
       " 'am',\n",
       " 'is',\n",
       " 'are',\n",
       " 'was',\n",
       " 'were',\n",
       " 'be',\n",
       " 'been',\n",
       " 'being',\n",
       " 'have',\n",
       " 'has',\n",
       " 'had',\n",
       " 'having',\n",
       " 'do',\n",
       " 'does',\n",
       " 'did',\n",
       " 'doing',\n",
       " 'a',\n",
       " 'an',\n",
       " 'the',\n",
       " 'and',\n",
       " 'but',\n",
       " 'if',\n",
       " 'or',\n",
       " 'because',\n",
       " 'as',\n",
       " 'until',\n",
       " 'while',\n",
       " 'of',\n",
       " 'at',\n",
       " 'by',\n",
       " 'for',\n",
       " 'with',\n",
       " 'about',\n",
       " 'against',\n",
       " 'between',\n",
       " 'into',\n",
       " 'through',\n",
       " 'during',\n",
       " 'before',\n",
       " 'after',\n",
       " 'above',\n",
       " 'below',\n",
       " 'to',\n",
       " 'from',\n",
       " 'up',\n",
       " 'down',\n",
       " 'in',\n",
       " 'out',\n",
       " 'on',\n",
       " 'off',\n",
       " 'over',\n",
       " 'under',\n",
       " 'again',\n",
       " 'further',\n",
       " 'then',\n",
       " 'once',\n",
       " 'here',\n",
       " 'there',\n",
       " 'when',\n",
       " 'where',\n",
       " 'why',\n",
       " 'how',\n",
       " 'all',\n",
       " 'any',\n",
       " 'both',\n",
       " 'each',\n",
       " 'few',\n",
       " 'more',\n",
       " 'most',\n",
       " 'other',\n",
       " 'some',\n",
       " 'such',\n",
       " 'no',\n",
       " 'nor',\n",
       " 'not',\n",
       " 'only',\n",
       " 'own',\n",
       " 'same',\n",
       " 'so',\n",
       " 'than',\n",
       " 'too',\n",
       " 'very',\n",
       " 's',\n",
       " 't',\n",
       " 'can',\n",
       " 'will',\n",
       " 'just',\n",
       " 'don',\n",
       " \"don't\",\n",
       " 'should',\n",
       " \"should've\",\n",
       " 'now',\n",
       " 'd',\n",
       " 'll',\n",
       " 'm',\n",
       " 'o',\n",
       " 're',\n",
       " 've',\n",
       " 'y',\n",
       " 'ain',\n",
       " 'aren',\n",
       " \"aren't\",\n",
       " 'couldn',\n",
       " \"couldn't\",\n",
       " 'didn',\n",
       " \"didn't\",\n",
       " 'doesn',\n",
       " \"doesn't\",\n",
       " 'hadn',\n",
       " \"hadn't\",\n",
       " 'hasn',\n",
       " \"hasn't\",\n",
       " 'haven',\n",
       " \"haven't\",\n",
       " 'isn',\n",
       " \"isn't\",\n",
       " 'ma',\n",
       " 'mightn',\n",
       " \"mightn't\",\n",
       " 'mustn',\n",
       " \"mustn't\",\n",
       " 'needn',\n",
       " \"needn't\",\n",
       " 'shan',\n",
       " \"shan't\",\n",
       " 'shouldn',\n",
       " \"shouldn't\",\n",
       " 'wasn',\n",
       " \"wasn't\",\n",
       " 'weren',\n",
       " \"weren't\",\n",
       " 'won',\n",
       " \"won't\",\n",
       " 'wouldn',\n",
       " \"wouldn't\"]"
      ]
     },
     "execution_count": 20,
     "metadata": {},
     "output_type": "execute_result"
    }
   ],
   "source": [
    "import nltk\n",
    "nltk.download('stopwords')\n",
    "from nltk.corpus import stopwords\n",
    "stop = stopwords.words('english')\n",
    "stop"
   ]
  },
  {
   "cell_type": "code",
   "execution_count": null,
   "id": "3bb5c238",
   "metadata": {},
   "outputs": [],
   "source": []
  }
 ],
 "metadata": {
  "kernelspec": {
   "display_name": "Python 3 (ipykernel)",
   "language": "python",
   "name": "python3"
  },
  "language_info": {
   "codemirror_mode": {
    "name": "ipython",
    "version": 3
   },
   "file_extension": ".py",
   "mimetype": "text/x-python",
   "name": "python",
   "nbconvert_exporter": "python",
   "pygments_lexer": "ipython3",
   "version": "3.9.7"
  }
 },
 "nbformat": 4,
 "nbformat_minor": 5
}
